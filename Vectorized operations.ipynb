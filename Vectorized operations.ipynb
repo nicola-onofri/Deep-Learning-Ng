{
 "cells": [
  {
   "cell_type": "markdown",
   "metadata": {},
   "source": [
    "<h2 align=\"center\">Performance comparison</h2>\n",
    "<h3 align=\"center\">between vectorized and non vectorized operations</h3>"
   ]
  },
  {
   "cell_type": "code",
   "execution_count": 9,
   "metadata": {},
   "outputs": [],
   "source": [
    "import numpy as np\n",
    "import time\n",
    "import matplotlib.pyplot as plt\n",
    "%matplotlib inline"
   ]
  },
  {
   "cell_type": "markdown",
   "metadata": {},
   "source": [
    "An example with a single operation"
   ]
  },
  {
   "cell_type": "code",
   "execution_count": 18,
   "metadata": {},
   "outputs": [],
   "source": [
    "a = np.random.random(1000000)\n",
    "b = np.random.random(1000000)"
   ]
  },
  {
   "cell_type": "code",
   "execution_count": 19,
   "metadata": {},
   "outputs": [
    {
     "data": {
      "text/plain": [
       "(1000000,)"
      ]
     },
     "execution_count": 19,
     "metadata": {},
     "output_type": "execute_result"
    }
   ],
   "source": [
    "a.shape"
   ]
  },
  {
   "cell_type": "markdown",
   "metadata": {},
   "source": [
    "Non vectorized operation"
   ]
  },
  {
   "cell_type": "code",
   "execution_count": 20,
   "metadata": {},
   "outputs": [],
   "source": [
    "def nvec_product(a, b):\n",
    "    z_nvec= 0\n",
    "\n",
    "    tic = time.clock()\n",
    "    for i in range(len(a)):\n",
    "        z_nvec += a[i]*b[i]\n",
    "    toc = time.clock()\n",
    "    eta_nvec = toc - tic\n",
    "    return z_nvec, eta_nvec"
   ]
  },
  {
   "cell_type": "markdown",
   "metadata": {},
   "source": [
    "Vectorized operation"
   ]
  },
  {
   "cell_type": "code",
   "execution_count": 21,
   "metadata": {},
   "outputs": [],
   "source": [
    "def vec_product(a,b):\n",
    "    tic = time.clock()\n",
    "    z_vec = np.dot(a,b)\n",
    "    toc = time.clock()\n",
    "    eta_vec = toc - tic\n",
    "    return z_vec, eta_vec"
   ]
  },
  {
   "cell_type": "markdown",
   "metadata": {},
   "source": [
    "Result comparison"
   ]
  },
  {
   "cell_type": "code",
   "execution_count": 16,
   "metadata": {
    "scrolled": true
   },
   "outputs": [
    {
     "name": "stdout",
     "output_type": "stream",
     "text": [
      "Non vectorized operation:\n",
      "z: 250183.149\n",
      "ETA: 1.04467\n",
      "\n",
      "Vectorized operation:\n",
      "z: 250183.149\n",
      "ETA: 0.00151\n",
      "\n",
      "Speedup: 690.8254681648115\n"
     ]
    }
   ],
   "source": [
    "z_nvec, eta_nvec = nvec_product(a,b)\n",
    "z_vec, eta_vec = vec_product(a,b)\n",
    "\n",
    "print(\"Non vectorized operation:\\nz: {:8.3f}\\nETA: {:0.5f}\\n\".format(z_nvec, eta_nvec))\n",
    "print(\"Vectorized operation:\\nz: {:8.3f}\\nETA: {:0.5f}\\n\".format(z_vec, eta_vec))\n",
    "print(\"Speedup: {}\".format(eta_nvec/eta_vec))"
   ]
  },
  {
   "cell_type": "markdown",
   "metadata": {},
   "source": [
    "An example with multiple operations"
   ]
  },
  {
   "cell_type": "code",
   "execution_count": 30,
   "metadata": {},
   "outputs": [],
   "source": [
    "shapes = [1e4, 1e5, 1e6, 1e7]"
   ]
  },
  {
   "cell_type": "code",
   "execution_count": 40,
   "metadata": {
    "scrolled": false
   },
   "outputs": [
    {
     "name": "stdout",
     "output_type": "stream",
     "text": [
      "Executing 10000.0 instance...\n",
      "Executing 100000.0 instance...\n",
      "Executing 1000000.0 instance...\n",
      "Executing 10000000.0 instance...\n",
      "All done!\n"
     ]
    }
   ],
   "source": [
    "nvec_times, vec_times = [],[]\n",
    "\n",
    "for i in range(len(shapes)):\n",
    "    a = np.random.random(int(shapes[i]))\n",
    "    b = np.random.random(int(shapes[i]))\n",
    "    \n",
    "    print(\"Executing {} instance...\".format(shapes[i]))\n",
    "    \n",
    "    nvec_times.append(nvec_product(a,b)[1])\n",
    "    vec_times.append(vec_product(a,b)[1])\n",
    "print(\"All done!\")"
   ]
  },
  {
   "cell_type": "code",
   "execution_count": 42,
   "metadata": {},
   "outputs": [
    {
     "data": {
      "image/png": "[encoded data removed]",
      "text/plain": [
       "<matplotlib.figure.Figure at 0x13234048128>"
      ]
     },
     "metadata": {},
     "output_type": "display_data"
    }
   ],
   "source": [
    "plt.subplot(211)\n",
    "plt.plot(nvec_times,shapes, 'k', vec_times, shapes, 'r')\n",
    "plt.xlabel(\"Dimension\")\n",
    "plt.ylabel(\"ETA\")\n",
    "plt.grid(True)\n",
    "plt.subplots_adjust(hspace=0.7, wspace=0.5)\n",
    "\n",
    "np_nvec = np.array(nvec_times) \n",
    "np_vec = np.array(vec_times)\n",
    "\n",
    "plt.subplot(212)\n",
    "plt.plot(np.divide(np_nvec, np_vec), shapes,'ro')\n",
    "plt.xlabel(\"Dimension\")\n",
    "plt.ylabel(\"Speedup\")\n",
    "plt.grid(True)"
   ]
  }
 ],
 "metadata": {
  "kernelspec": {
   "display_name": "Python 3",
   "language": "python",
   "name": "python3"
  },
  "language_info": {
   "codemirror_mode": {
    "name": "ipython",
    "version": 3
   },
   "file_extension": ".py",
   "mimetype": "text/x-python",
   "name": "python",
   "nbconvert_exporter": "python",
   "pygments_lexer": "ipython3",
   "version": "3.6.4"
  }
 },
 "nbformat": 4,
 "nbformat_minor": 2
}
